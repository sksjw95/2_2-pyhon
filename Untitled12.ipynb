{
  "nbformat": 4,
  "nbformat_minor": 0,
  "metadata": {
    "colab": {
      "provenance": [],
      "authorship_tag": "ABX9TyPXo/Hmfbjv60okvIzWQ8HS",
      "include_colab_link": true
    },
    "kernelspec": {
      "name": "python3",
      "display_name": "Python 3"
    },
    "language_info": {
      "name": "python"
    }
  },
  "cells": [
    {
      "cell_type": "markdown",
      "metadata": {
        "id": "view-in-github",
        "colab_type": "text"
      },
      "source": [
        "<a href=\"https://colab.research.google.com/github/sksjw95/2_2-pyhon/blob/main/Untitled12.ipynb\" target=\"_parent\"><img src=\"https://colab.research.google.com/assets/colab-badge.svg\" alt=\"Open In Colab\"/></a>"
      ]
    },
    {
      "cell_type": "code",
      "execution_count": null,
      "metadata": {
        "colab": {
          "base_uri": "https://localhost:8080/"
        },
        "id": "K6FxpSleHtff",
        "outputId": "a955e46c-c2bb-4425-ab55-f6986579e352"
      },
      "outputs": [
        {
          "output_type": "stream",
          "name": "stdout",
          "text": [
            "3\n"
          ]
        }
      ],
      "source": [
        "def count_vowels(s):\n",
        "    vowels = \"aeiou\"\n",
        "    count = 0\n",
        "    for char in s.lower():\n",
        "        if char in vowels:\n",
        "            count +=1\n",
        "    return count\n",
        "\n",
        "vowel_count = count_vowels(\"Hello World\")\n",
        "print(vowel_count)"
      ]
    },
    {
      "cell_type": "code",
      "source": [
        "day = \"Monday\"\n",
        "\n",
        "def banner():\n",
        "    print(\"Welcome\")\n",
        "    print(\"This is \",day)\n",
        "\n",
        "banner()"
      ],
      "metadata": {
        "colab": {
          "base_uri": "https://localhost:8080/"
        },
        "id": "BVxZ_CWoJ6_C",
        "outputId": "08dd881b-39c8-4f7f-f853-cc54a2bf0f5a"
      },
      "execution_count": null,
      "outputs": [
        {
          "output_type": "stream",
          "name": "stdout",
          "text": [
            "Welcome\n",
            "This is  Monday\n"
          ]
        }
      ]
    },
    {
      "cell_type": "code",
      "source": [
        "def add(a,b):\n",
        "    global sum\n",
        "    sum = a+b\n",
        "    print(sum)\n",
        "\n",
        "add(10,20)\n",
        "print(sum)"
      ],
      "metadata": {
        "colab": {
          "base_uri": "https://localhost:8080/"
        },
        "id": "Xri_aDIIKVTO",
        "outputId": "3d6534c2-993a-42d7-fd3b-f0a3e263c5ee"
      },
      "execution_count": null,
      "outputs": [
        {
          "output_type": "stream",
          "name": "stdout",
          "text": [
            "30\n",
            "30\n"
          ]
        }
      ]
    },
    {
      "cell_type": "code",
      "source": [
        "from datetime import datetime\n",
        "\n",
        "def print_current_time():\n",
        "    current_time = datetime.now()\n",
        "    print(\"현재 시간은 \",current_time)\n",
        "\n",
        "print_current_time()\n"
      ],
      "metadata": {
        "colab": {
          "base_uri": "https://localhost:8080/"
        },
        "id": "ZV7rK1xlNs4t",
        "outputId": "3506b85f-92cd-4e3a-cb28-073843e11295"
      },
      "execution_count": null,
      "outputs": [
        {
          "output_type": "stream",
          "name": "stdout",
          "text": [
            "현재 시간은  2024-10-18 06:04:30.904456\n"
          ]
        }
      ]
    },
    {
      "cell_type": "code",
      "source": [
        "def mult(a,b):\n",
        "    return a*b\n",
        "\n",
        "print(mult(10,20))"
      ],
      "metadata": {
        "colab": {
          "base_uri": "https://localhost:8080/"
        },
        "id": "lxLOpgcOQDuN",
        "outputId": "48afc276-9285-40ec-926e-8f1379895bd9"
      },
      "execution_count": null,
      "outputs": [
        {
          "output_type": "stream",
          "name": "stdout",
          "text": [
            "200\n"
          ]
        }
      ]
    },
    {
      "cell_type": "code",
      "source": [
        "def add_unfixed(*args):\n",
        "    result = 0\n",
        "    for arg in args:\n",
        "        result +=arg\n",
        "    return result\n",
        "\n",
        "print(add_unfixed(1,2,3,4))\n",
        "print(add_unfixed(1,2,3,4,5,6,7))"
      ],
      "metadata": {
        "colab": {
          "base_uri": "https://localhost:8080/"
        },
        "id": "UVZEF0g4fgB5",
        "outputId": "5a915a36-d87f-4efb-a200-86a9886da3f9"
      },
      "execution_count": null,
      "outputs": [
        {
          "output_type": "stream",
          "name": "stdout",
          "text": [
            "10\n",
            "28\n"
          ]
        }
      ]
    }
  ]
}