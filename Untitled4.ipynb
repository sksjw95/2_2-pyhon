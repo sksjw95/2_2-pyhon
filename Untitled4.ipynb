{
  "nbformat": 4,
  "nbformat_minor": 0,
  "metadata": {
    "colab": {
      "provenance": [],
      "authorship_tag": "ABX9TyN17eUUcHvpw58BhbVGjvAJ",
      "include_colab_link": true
    },
    "kernelspec": {
      "name": "python3",
      "display_name": "Python 3"
    },
    "language_info": {
      "name": "python"
    }
  },
  "cells": [
    {
      "cell_type": "markdown",
      "metadata": {
        "id": "view-in-github",
        "colab_type": "text"
      },
      "source": [
        "<a href=\"https://colab.research.google.com/github/sksjw95/2_2-pyhon/blob/main/Untitled4.ipynb\" target=\"_parent\"><img src=\"https://colab.research.google.com/assets/colab-badge.svg\" alt=\"Open In Colab\"/></a>"
      ]
    },
    {
      "cell_type": "code",
      "execution_count": null,
      "metadata": {
        "colab": {
          "base_uri": "https://localhost:8080/"
        },
        "id": "_ob2-zorsVoq",
        "outputId": "ac77e5a7-5895-448c-bb6f-e7e19ccfc3f3"
      },
      "outputs": [
        {
          "output_type": "stream",
          "name": "stdout",
          "text": [
            "[33, 10, 14, 43, 11, 15] [3, 37, 13, 26, 34, 16] [14, 39, 23, 40, 45, 28] [15, 36, 20, 27, 10, 43] [31, 10, 34, 6, 8, 23] "
          ]
        }
      ],
      "source": [
        "import random\n",
        "i = 1\n",
        "while i <= 5:\n",
        "    a = random.sample(range(1,46,1),6)\n",
        "    print(a, end=\" \")\n",
        "    i= i+1"
      ]
    },
    {
      "cell_type": "code",
      "source": [
        "import random\n",
        "\n",
        "print(random.randrange(1,9,3))"
      ],
      "metadata": {
        "colab": {
          "base_uri": "https://localhost:8080/"
        },
        "id": "GNq2Qdqxx-FW",
        "outputId": "5a4e8156-540a-43b4-96ed-f2bf73a68c6f"
      },
      "execution_count": null,
      "outputs": [
        {
          "output_type": "stream",
          "name": "stdout",
          "text": [
            "4\n"
          ]
        }
      ]
    },
    {
      "cell_type": "code",
      "source": [
        "board = [[1,2,3],[4,5,6]]\n",
        "\n",
        "for row in board:\n",
        "    for item in row:\n",
        "        print(item, end = \" \")\n",
        "    print()"
      ],
      "metadata": {
        "colab": {
          "base_uri": "https://localhost:8080/"
        },
        "id": "UdW1m5761xIR",
        "outputId": "f023f456-f370-4f57-b569-faa2d467fcf2"
      },
      "execution_count": null,
      "outputs": [
        {
          "output_type": "stream",
          "name": "stdout",
          "text": [
            "1 2 3 \n",
            "4 5 6 \n"
          ]
        }
      ]
    }
  ]
}