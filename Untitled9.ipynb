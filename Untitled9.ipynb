{
  "nbformat": 4,
  "nbformat_minor": 0,
  "metadata": {
    "colab": {
      "provenance": [],
      "authorship_tag": "ABX9TyPK6AIqzn3TVmMd0eJ0/9UL",
      "include_colab_link": true
    },
    "kernelspec": {
      "name": "python3",
      "display_name": "Python 3"
    },
    "language_info": {
      "name": "python"
    }
  },
  "cells": [
    {
      "cell_type": "markdown",
      "metadata": {
        "id": "view-in-github",
        "colab_type": "text"
      },
      "source": [
        "<a href=\"https://colab.research.google.com/github/sksjw95/2_2-pyhon/blob/main/Untitled9.ipynb\" target=\"_parent\"><img src=\"https://colab.research.google.com/assets/colab-badge.svg\" alt=\"Open In Colab\"/></a>"
      ]
    },
    {
      "cell_type": "code",
      "execution_count": null,
      "metadata": {
        "colab": {
          "base_uri": "https://localhost:8080/"
        },
        "id": "d0XLSQTosaNW",
        "outputId": "2b445971-fa77-4ca3-b797-36cb4e297dac"
      },
      "outputs": [
        {
          "output_type": "stream",
          "name": "stdout",
          "text": [
            "Hello, world!\n"
          ]
        }
      ],
      "source": [
        "print(\"Hello, world!\")"
      ]
    },
    {
      "cell_type": "code",
      "source": [
        "name = \"Tom\"\n",
        "height = 180.190\n",
        "\n",
        "print(\"name: \", name, \"Height: \",height,\"cm\")"
      ],
      "metadata": {
        "colab": {
          "base_uri": "https://localhost:8080/"
        },
        "id": "DR4NqjpXswmG",
        "outputId": "3e2ec3f7-4c47-4dea-eb23-fc94f60465f1"
      },
      "execution_count": null,
      "outputs": [
        {
          "output_type": "stream",
          "name": "stdout",
          "text": [
            "name:  Tom Height:  (180, 190) cm\n"
          ]
        }
      ]
    },
    {
      "cell_type": "code",
      "source": [
        "\n",
        "\n",
        "print(\"Name: {}, Height: {}\".format(name,height))"
      ],
      "metadata": {
        "colab": {
          "base_uri": "https://localhost:8080/"
        },
        "id": "DxI-wlg0tpkZ",
        "outputId": "8ae77498-1efc-438d-be15-031c6ad2ed5f"
      },
      "execution_count": null,
      "outputs": [
        {
          "output_type": "stream",
          "name": "stdout",
          "text": [
            "Name: Tom, Height: 180\n"
          ]
        }
      ]
    },
    {
      "cell_type": "code",
      "source": [
        "pi = 3.14159\n",
        "print(\"Pi: {:.3f}\".format(pi))"
      ],
      "metadata": {
        "colab": {
          "base_uri": "https://localhost:8080/"
        },
        "id": "MXIKlt4Eu4vp",
        "outputId": "1c176b8b-d4ab-4b7c-bf95-ef86e10f57a8"
      },
      "execution_count": null,
      "outputs": [
        {
          "output_type": "stream",
          "name": "stdout",
          "text": [
            "Pi: 3.142\n"
          ]
        }
      ]
    },
    {
      "cell_type": "code",
      "source": [
        "print(\" Name: {1},Height: {0},\".format(height, name))"
      ],
      "metadata": {
        "colab": {
          "base_uri": "https://localhost:8080/"
        },
        "id": "KsFnhfQ7wIim",
        "outputId": "33a81707-909b-4a15-e5e2-891ab20b31c5"
      },
      "execution_count": null,
      "outputs": [
        {
          "output_type": "stream",
          "name": "stdout",
          "text": [
            " Name: Tom,Height: 180,\n"
          ]
        }
      ]
    },
    {
      "cell_type": "code",
      "source": [
        "name = \"Tom\"\n",
        "height=180.1234\n",
        "print(f\"Name: {name}, height:{height:.1f}\")"
      ],
      "metadata": {
        "colab": {
          "base_uri": "https://localhost:8080/"
        },
        "id": "dWAaj6R8xgKh",
        "outputId": "666d1afb-b942-44fe-ed26-9bf4300f5696"
      },
      "execution_count": null,
      "outputs": [
        {
          "output_type": "stream",
          "name": "stdout",
          "text": [
            "Name: Tom, height:180.1\n"
          ]
        }
      ]
    },
    {
      "cell_type": "code",
      "source": [
        "a= 5\n",
        "b= 3\n",
        "\n",
        "print(f\"{a}+{b} = {a+b}\")"
      ],
      "metadata": {
        "colab": {
          "base_uri": "https://localhost:8080/"
        },
        "id": "WXdHM_xB3q4U",
        "outputId": "fae58e17-8eed-419f-a2e0-271572acdaa2"
      },
      "execution_count": null,
      "outputs": [
        {
          "output_type": "stream",
          "name": "stdout",
          "text": [
            "5+3 = 8\n"
          ]
        }
      ]
    },
    {
      "cell_type": "code",
      "source": [
        "my_list =[0,1,2,3,4,5,6,7,8,9]\n",
        "slice5=my_list[::-1]\n",
        "print(slice5)"
      ],
      "metadata": {
        "colab": {
          "base_uri": "https://localhost:8080/"
        },
        "id": "A7JouKLzXvRb",
        "outputId": "61800f05-95b8-457c-e022-91cf3652ad6f"
      },
      "execution_count": null,
      "outputs": [
        {
          "output_type": "stream",
          "name": "stdout",
          "text": [
            "[9, 8, 7, 6, 5, 4, 3, 2, 1, 0]\n"
          ]
        }
      ]
    },
    {
      "cell_type": "code",
      "source": [
        "my_mixed_list=[1,\"hello\",True,3.14]\n",
        "\n",
        "print(my_mixed_list[0])\n",
        "print(my_mixed_list[-3])\n",
        "my_mixed_list[1] = \"bye\"\n",
        "print(my_mixed_list[1])"
      ],
      "metadata": {
        "colab": {
          "base_uri": "https://localhost:8080/"
        },
        "id": "7QB4GiJ8YKQQ",
        "outputId": "03c04f99-5872-4f82-cf6b-10cc825fe2a5"
      },
      "execution_count": null,
      "outputs": [
        {
          "output_type": "stream",
          "name": "stdout",
          "text": [
            "1\n",
            "hello\n",
            "bye\n"
          ]
        }
      ]
    },
    {
      "cell_type": "code",
      "source": [
        "my_list2=[]\n",
        "my_list2.append(1)\n",
        "my_list2.append(2)\n",
        "my_list2.append(3)\n",
        "\n",
        "print(\"리스트: \",my_list2)\n",
        "\n",
        "print(\"리스트의 길이: \",len(my_list2))\n",
        "\n",
        "print(\"첫 번째 요소: \",my_list2[0] )\n",
        "\n",
        "del my_list2[1]\n",
        "for item in my_list2:\n",
        "    print(item)"
      ],
      "metadata": {
        "colab": {
          "base_uri": "https://localhost:8080/"
        },
        "id": "oXrlZZ2UYVn2",
        "outputId": "721b0b7f-70e3-40ff-9e44-e88e25e854a3"
      },
      "execution_count": null,
      "outputs": [
        {
          "output_type": "stream",
          "name": "stdout",
          "text": [
            "리스트:  [1, 2, 3]\n",
            "리스트의 길이:  3\n",
            "첫 번째 요소:  1\n",
            "1\n",
            "3\n"
          ]
        }
      ]
    },
    {
      "cell_type": "code",
      "source": [
        "student_scores=[]\n",
        "num_students=5\n",
        "\n",
        "for i in range(num_students):\n",
        "    score = float(input(f\"{i+1}번째 학생의 점수를 입력하세요\"))\n",
        "    student_scores.append(score)\n",
        "\n",
        "print(\"\\n 모든 학생의 점수:\")\n",
        "for score in student_scores:\n",
        "    print(f\"{score}\")\n",
        "\n",
        "total_score = sum(score for score in student_scores)\n",
        "average_score = total_score/ num_students\n",
        "\n",
        "print(\"\\n 평균 점수: \",average_score)\n"
      ],
      "metadata": {
        "colab": {
          "base_uri": "https://localhost:8080/"
        },
        "id": "Mtrmc5HKYViw",
        "outputId": "e9c228fd-7efe-492c-dc81-e38123373cb9"
      },
      "execution_count": null,
      "outputs": [
        {
          "output_type": "stream",
          "name": "stdout",
          "text": [
            "1번째 학생의 점수를 입력하세요85\n",
            "2번째 학생의 점수를 입력하세요65\n",
            "3번째 학생의 점수를 입력하세요45\n",
            "4번째 학생의 점수를 입력하세요90\n",
            "5번째 학생의 점수를 입력하세요85\n",
            "\n",
            " 모든 학생의 점수:\n",
            "85.0\n",
            "65.0\n",
            "45.0\n",
            "90.0\n",
            "85.0\n",
            "\n",
            " 평균 점수:  74.0\n"
          ]
        }
      ]
    },
    {
      "cell_type": "code",
      "source": [
        "mytuple =(1,2,3,4,5)\n",
        "my_mixed_tuple =(1,\"Hello\",True,3.14)\n",
        "\n",
        "print(mytuple[0])\n",
        "print(my_mixed_tuple[1])\n",
        "\n",
        "mytuple[0]=5\n",
        "my_mixed_tuple[2]=3"
      ],
      "metadata": {
        "id": "hUjZ9KS-YVeG",
        "colab": {
          "base_uri": "https://localhost:8080/",
          "height": 243
        },
        "outputId": "340b0b93-e822-4fdf-ef70-2d14ac969a7e"
      },
      "execution_count": null,
      "outputs": [
        {
          "output_type": "stream",
          "name": "stdout",
          "text": [
            "1\n",
            "Hello\n"
          ]
        },
        {
          "output_type": "error",
          "ename": "TypeError",
          "evalue": "'tuple' object does not support item assignment",
          "traceback": [
            "\u001b[0;31m---------------------------------------------------------------------------\u001b[0m",
            "\u001b[0;31mTypeError\u001b[0m                                 Traceback (most recent call last)",
            "\u001b[0;32m<ipython-input-2-99ca425006de>\u001b[0m in \u001b[0;36m<cell line: 7>\u001b[0;34m()\u001b[0m\n\u001b[1;32m      5\u001b[0m \u001b[0mprint\u001b[0m\u001b[0;34m(\u001b[0m\u001b[0mmy_mixed_tuple\u001b[0m\u001b[0;34m[\u001b[0m\u001b[0;36m1\u001b[0m\u001b[0;34m]\u001b[0m\u001b[0;34m)\u001b[0m\u001b[0;34m\u001b[0m\u001b[0;34m\u001b[0m\u001b[0m\n\u001b[1;32m      6\u001b[0m \u001b[0;34m\u001b[0m\u001b[0m\n\u001b[0;32m----> 7\u001b[0;31m \u001b[0mmytuple\u001b[0m\u001b[0;34m[\u001b[0m\u001b[0;36m0\u001b[0m\u001b[0;34m]\u001b[0m\u001b[0;34m=\u001b[0m\u001b[0;36m5\u001b[0m\u001b[0;34m\u001b[0m\u001b[0;34m\u001b[0m\u001b[0m\n\u001b[0m\u001b[1;32m      8\u001b[0m \u001b[0mmy_mixed_tuple\u001b[0m\u001b[0;34m[\u001b[0m\u001b[0;36m2\u001b[0m\u001b[0;34m]\u001b[0m\u001b[0;34m=\u001b[0m\u001b[0;36m3\u001b[0m\u001b[0;34m\u001b[0m\u001b[0;34m\u001b[0m\u001b[0m\n",
            "\u001b[0;31mTypeError\u001b[0m: 'tuple' object does not support item assignment"
          ]
        }
      ]
    },
    {
      "cell_type": "code",
      "source": [
        "mytuple=(1,1,2,2,2,3,4,5)\n",
        "print(mytuple.count(2))\n",
        "print(mytuple.count(1))\n",
        "print(mytuple.count(7))\n",
        "print(mytuple.index(1))\n",
        "print(mytuple.index(3))"
      ],
      "metadata": {
        "colab": {
          "base_uri": "https://localhost:8080/"
        },
        "id": "EDOKwsmO7ie4",
        "outputId": "9d51014c-1f27-48f8-ed3c-94a7bf3cfb82"
      },
      "execution_count": null,
      "outputs": [
        {
          "output_type": "stream",
          "name": "stdout",
          "text": [
            "3\n",
            "2\n",
            "0\n",
            "0\n",
            "5\n"
          ]
        }
      ]
    },
    {
      "cell_type": "code",
      "source": [
        "mytuple = 1,2,3,4\n",
        "print(mytuple)\n",
        "mytuple1 = (1,2,3,4)\n",
        "x,y,z,w=mytuple1\n",
        "print(x,y,z)"
      ],
      "metadata": {
        "colab": {
          "base_uri": "https://localhost:8080/"
        },
        "id": "bLKfJ2j47iS1",
        "outputId": "69d92c1a-e061-4229-cf01-9c4bd11edd54"
      },
      "execution_count": null,
      "outputs": [
        {
          "output_type": "stream",
          "name": "stdout",
          "text": [
            "(1, 2, 3, 4)\n",
            "1 2 3\n"
          ]
        }
      ]
    },
    {
      "cell_type": "code",
      "source": [
        "student1 =(\"John\",20,\"남성\")\n",
        "student2 =(\"Emily\",22,\"여성\")\n",
        "student3=(\"Michael\",21,\"남성\")\n",
        "\n",
        "students = [student1,student2,student3]\n",
        "\n",
        "for student in students:\n",
        "    print(f\"이름: {student[0]}, 나이: {student[1]}, 성별: {student[2]}\")"
      ],
      "metadata": {
        "colab": {
          "base_uri": "https://localhost:8080/"
        },
        "id": "t3fJmY0x7iIn",
        "outputId": "d9031e33-57ab-4746-e853-091fce801f28"
      },
      "execution_count": null,
      "outputs": [
        {
          "output_type": "stream",
          "name": "stdout",
          "text": [
            "이름: John, 나이: 20, 성별: 남성\n",
            "이름: Emily, 나이: 22, 성별: 여성\n",
            "이름: Michael, 나이: 21, 성별: 남성\n"
          ]
        }
      ]
    },
    {
      "cell_type": "code",
      "source": [
        "from google.colab import drive\n",
        "drive.mount('/content/drive')"
      ],
      "metadata": {
        "id": "Sn5291UxVO_o"
      },
      "execution_count": null,
      "outputs": []
    },
    {
      "cell_type": "code",
      "source": [
        "my_set = {1,2,3,4,5}\n",
        "if 3 in my_set:\n",
        "    print(\"3은 집합에 속합니다.\")\n",
        "else:\n",
        "    print(\"3은 집합에 속하지 않습니다.\")\n",
        "\n",
        "if 6 in my_set:\n",
        "    print(\"6은 집합에 속합니다.\")\n",
        "else:\n",
        "    print(\"6은 집합에 속하지 않습니다.\")"
      ],
      "metadata": {
        "id": "Tw0kjokXYVZV",
        "colab": {
          "base_uri": "https://localhost:8080/"
        },
        "outputId": "e3ee7eeb-1301-4e3d-e368-588e27f3345e"
      },
      "execution_count": null,
      "outputs": [
        {
          "output_type": "stream",
          "name": "stdout",
          "text": [
            "3은 집합에 속합니다.\n",
            "6은 집합에 속하지 않습니다.\n"
          ]
        }
      ]
    },
    {
      "cell_type": "code",
      "source": [
        "myset3 = {1,2,3}\n",
        "myset3.update({4,5,6})\n",
        "print(myset3)\n",
        "myset3.pop()\n",
        "\n"
      ],
      "metadata": {
        "id": "Hcsj5iUBYVU8",
        "colab": {
          "base_uri": "https://localhost:8080/"
        },
        "outputId": "3a85c586-fddf-473b-8bb1-0cfb67181c42"
      },
      "execution_count": null,
      "outputs": [
        {
          "output_type": "stream",
          "name": "stdout",
          "text": [
            "{1, 2, 3, 4, 5, 6}\n"
          ]
        },
        {
          "output_type": "execute_result",
          "data": {
            "text/plain": [
              "1"
            ]
          },
          "metadata": {},
          "execution_count": 25
        }
      ]
    },
    {
      "cell_type": "code",
      "source": [
        "def count(sentence):\n",
        "    words = set(sentence.split())\n",
        "\n",
        "    return len(words)\n",
        "\n",
        "test_sentence = \"Python is a programming language. Python is easy to learn.\"\n",
        "word_count = count(test_sentence)\n",
        "print(\"문장에 포함된 단어 수: \",word_count)"
      ],
      "metadata": {
        "id": "I7Qd9EqKYVPF",
        "colab": {
          "base_uri": "https://localhost:8080/"
        },
        "outputId": "9ef58d71-f216-47c6-ede5-8c0a855717d8"
      },
      "execution_count": null,
      "outputs": [
        {
          "output_type": "stream",
          "name": "stdout",
          "text": [
            "문장에 포함된 단어 수:  8\n"
          ]
        }
      ]
    },
    {
      "cell_type": "code",
      "source": [
        "def commonelement(list1,list2):\n",
        "    set1 = set(list1)\n",
        "    set2 = set(list2)\n",
        "\n",
        "    element = set1.intersection(set2)\n",
        "\n",
        "    return element\n",
        "\n",
        "list1 = [1,2,3,4,5]\n",
        "list2 = [3,4,5,6,7]\n",
        "\n",
        "elements = commonelement(list1,list2)\n",
        "print(\"두 리스트에 공통으로 포함된 요소: \",elements)"
      ],
      "metadata": {
        "id": "CRXp4weAYVFF",
        "colab": {
          "base_uri": "https://localhost:8080/"
        },
        "outputId": "8a255354-60b4-496c-c83b-e3acde0a0bdd"
      },
      "execution_count": null,
      "outputs": [
        {
          "output_type": "stream",
          "name": "stdout",
          "text": [
            "두 리스트에 공통으로 포함된 요소:  {3, 4, 5}\n"
          ]
        }
      ]
    },
    {
      "cell_type": "code",
      "source": [
        "keys = ['apple','banana','cherry']\n",
        "value=0\n",
        "dict1 = dict.fromkeys(keys,value)\n",
        "print(dict1)"
      ],
      "metadata": {
        "id": "nzM_as-yYTAU",
        "colab": {
          "base_uri": "https://localhost:8080/"
        },
        "outputId": "be6ac92f-7a43-47cf-acdf-8ae0c0115354"
      },
      "execution_count": null,
      "outputs": [
        {
          "output_type": "stream",
          "name": "stdout",
          "text": [
            "{'apple': 0, 'banana': 0, 'cherry': 0}\n"
          ]
        }
      ]
    },
    {
      "cell_type": "code",
      "source": [
        "fruit = {'apple':5,'banana':3,'cherry':8}\n",
        "\n",
        "remo = fruit.popitem()\n",
        "print(fruit)"
      ],
      "metadata": {
        "colab": {
          "base_uri": "https://localhost:8080/"
        },
        "id": "TpaCeb_-2p-A",
        "outputId": "6e4e1655-6ec2-4216-9cdd-826aecaf6cef"
      },
      "execution_count": null,
      "outputs": [
        {
          "output_type": "stream",
          "name": "stdout",
          "text": [
            "{'apple': 5, 'banana': 3}\n"
          ]
        }
      ]
    },
    {
      "cell_type": "code",
      "source": [
        "fruits_stock = {'apple':10,'banana':5,'cherry':8,'orange':12}\n",
        "name = input(\"재고를 조회할 과일 이름을 입력하세요: \")\n",
        "\n",
        "if name in fruits_stock:\n",
        "    quantity = fruits_stock[name]\n",
        "    print(f\"{name}의 재고량은 {quantity}개 입니다.\")\n",
        "else:\n",
        "    print(f\"{name}은(는) 재고에 없습니다.\")"
      ],
      "metadata": {
        "colab": {
          "base_uri": "https://localhost:8080/"
        },
        "id": "qq8lMikh2p6N",
        "outputId": "096a83c8-35e2-42b2-ad61-41434acd9351"
      },
      "execution_count": null,
      "outputs": [
        {
          "output_type": "stream",
          "name": "stdout",
          "text": [
            "재고를 조회할 과일 이름을 입력하세요: apple\n",
            "apple의 재고량은 10개 입니다.\n"
          ]
        }
      ]
    },
    {
      "cell_type": "code",
      "source": [
        "'''x = -10\n",
        "\n",
        "if x>0:\n",
        "    print(\"x는 양수입니다.\")'''"
      ],
      "metadata": {
        "id": "-8LwP_Gj2p3o"
      },
      "execution_count": null,
      "outputs": []
    },
    {
      "cell_type": "code",
      "source": [
        "text = \"\"\n",
        "\n",
        "if text:\n",
        "    print(\" The string is not empty\")\n",
        "else:\n",
        "    print(\"The string is empty\")"
      ],
      "metadata": {
        "id": "YiFXl2li2p0f",
        "colab": {
          "base_uri": "https://localhost:8080/"
        },
        "outputId": "bf2ee7e0-d7fe-453b-d5f6-07c828ce5fb2"
      },
      "execution_count": null,
      "outputs": [
        {
          "output_type": "stream",
          "name": "stdout",
          "text": [
            "The string is empty\n"
          ]
        }
      ]
    },
    {
      "cell_type": "code",
      "source": [
        "fruits = [\"apple\", \"banana\",\"cherry\"]\n",
        "\n",
        "if \"apple\" in fruits:\n",
        "    print(\"Apple is in list\")"
      ],
      "metadata": {
        "id": "xjg9iPKc2pvu",
        "colab": {
          "base_uri": "https://localhost:8080/"
        },
        "outputId": "c90f8641-64e6-4990-f373-ef6b3bb852dd"
      },
      "execution_count": null,
      "outputs": [
        {
          "output_type": "stream",
          "name": "stdout",
          "text": [
            "Apple is in list\n"
          ]
        }
      ]
    },
    {
      "cell_type": "code",
      "source": [
        "x = -10\n",
        "if x>0 :\n",
        "    print(\"x는 양수입니다.\")\n",
        "else:\n",
        "    print(\"양수가 아닙니다.\")"
      ],
      "metadata": {
        "id": "ACJwsn_82psY",
        "colab": {
          "base_uri": "https://localhost:8080/"
        },
        "outputId": "d5ab2663-771f-43bd-83b0-1db9fd8583af"
      },
      "execution_count": null,
      "outputs": [
        {
          "output_type": "stream",
          "name": "stdout",
          "text": [
            "양수가 아닙니다.\n"
          ]
        }
      ]
    },
    {
      "cell_type": "code",
      "source": [
        "number = 4\n",
        "\n",
        "if number % 2 == 0:\n",
        "    print(\"The number is even\")\n",
        "else:\n",
        "    print(\"The number is odd\")"
      ],
      "metadata": {
        "id": "GmMUq1zl2pnO",
        "colab": {
          "base_uri": "https://localhost:8080/"
        },
        "outputId": "cd1caecb-5ad4-4fba-f90f-ced81469dcc5"
      },
      "execution_count": null,
      "outputs": [
        {
          "output_type": "stream",
          "name": "stdout",
          "text": [
            "The number is even\n"
          ]
        }
      ]
    },
    {
      "cell_type": "code",
      "source": [
        "person = {\"name\": \"Alice\",\"age\": 24}\n",
        "\n",
        "if \"address\" in person:\n",
        "    print(\"Address is a key in the dictionary\")\n",
        "else:\n",
        "    print(\"Address is not a key in the dictionary\")"
      ],
      "metadata": {
        "id": "snRZVZFp2pj_",
        "colab": {
          "base_uri": "https://localhost:8080/"
        },
        "outputId": "f5de7c2a-0c5c-4b8b-87d2-3207c8994f38"
      },
      "execution_count": null,
      "outputs": [
        {
          "output_type": "stream",
          "name": "stdout",
          "text": [
            "Address is not a key in the dictionary\n"
          ]
        }
      ]
    },
    {
      "cell_type": "code",
      "source": [
        "x = 10\n",
        "if x > 0:\n",
        "    print(\"x는 양수입니다.\")\n",
        "elif x < 0:\n",
        "    print(\"x는 음수입니다.\")\n",
        "else:\n",
        "    print(\"x는 0입니다.\")"
      ],
      "metadata": {
        "id": "ZoOPET-22pew",
        "colab": {
          "base_uri": "https://localhost:8080/"
        },
        "outputId": "9d77fc0d-b336-4cab-d8d3-643223e82835"
      },
      "execution_count": null,
      "outputs": [
        {
          "output_type": "stream",
          "name": "stdout",
          "text": [
            "x는 양수입니다.\n"
          ]
        }
      ]
    },
    {
      "cell_type": "code",
      "source": [
        "light = \"green\"\n",
        "\n",
        "if light == \"red\":\n",
        "    print(\"stop\")\n",
        "elif light == \"yellow\":\n",
        "    print(\"caution\")\n",
        "elif light == \"green\":\n",
        "    print(\"go\")\n",
        "else:\n",
        "    print(\"Invalid light color\")"
      ],
      "metadata": {
        "id": "WHgNO6Uy2pbu",
        "colab": {
          "base_uri": "https://localhost:8080/"
        },
        "outputId": "24f6f0c3-dfdb-4aae-83f3-7b17e782c643"
      },
      "execution_count": null,
      "outputs": [
        {
          "output_type": "stream",
          "name": "stdout",
          "text": [
            "go\n"
          ]
        }
      ]
    },
    {
      "cell_type": "code",
      "source": [
        "score = 85\n",
        "\n",
        "if score >=  90:\n",
        "    print(\"Grade: A\")\n",
        "elif score >= 80:\n",
        "    print(\"Grade: B\")\n",
        "elif score >= 70:\n",
        "    print(\"Grade: C\")\n",
        "elif score >= 60:\n",
        "    print(\"Grade: D\")\n",
        "else:\n",
        "    print(\"Grade: F\")"
      ],
      "metadata": {
        "id": "juhhJiDv2pY2",
        "colab": {
          "base_uri": "https://localhost:8080/"
        },
        "outputId": "570f48d6-ae7e-40e1-c776-ab9ba8216574"
      },
      "execution_count": null,
      "outputs": [
        {
          "output_type": "stream",
          "name": "stdout",
          "text": [
            "Grade: B\n"
          ]
        }
      ]
    },
    {
      "cell_type": "code",
      "source": [
        "age = 25\n",
        "if age < 13:\n",
        "    print(\"child\")\n",
        "elif age < 20:\n",
        "    print(\"Teenager\")\n",
        "elif age < 65:\n",
        "    print(\"Adult\")\n",
        "else:\n",
        "    print(\"Senior\")"
      ],
      "metadata": {
        "id": "x12hHmyG2pV5",
        "colab": {
          "base_uri": "https://localhost:8080/"
        },
        "outputId": "57747846-91cf-4c24-c37d-da9cdda6f554"
      },
      "execution_count": null,
      "outputs": [
        {
          "output_type": "stream",
          "name": "stdout",
          "text": [
            "Adult\n"
          ]
        }
      ]
    },
    {
      "cell_type": "code",
      "source": [
        "num = 0\n",
        "while(num <10):\n",
        "    num = int(input(\"Enter a number: \"))\n",
        "    print(\"You entered: \",num)\n"
      ],
      "metadata": {
        "id": "9G7AHq7h2pR_",
        "colab": {
          "base_uri": "https://localhost:8080/"
        },
        "outputId": "f0bac0bf-257f-4265-e8fe-339e08ee40f9"
      },
      "execution_count": null,
      "outputs": [
        {
          "output_type": "stream",
          "name": "stdout",
          "text": [
            "Enter a number: 11\n",
            "You entered:  11\n"
          ]
        }
      ]
    },
    {
      "cell_type": "code",
      "source": [
        "max = 11\n",
        "count = 1\n",
        "while count <= max:\n",
        "    if count == 1:\n",
        "        print(\"I hit a tree %d time. \" % count)\n",
        "    else:\n",
        "        print(\"I hit a tree %d time. \" %count)\n",
        "    count+=1\n",
        "print(\"The tree is falling\")"
      ],
      "metadata": {
        "id": "ToNTb2GJ2pPO",
        "colab": {
          "base_uri": "https://localhost:8080/"
        },
        "outputId": "205e9775-3460-4b22-b24d-da35a07ea803"
      },
      "execution_count": null,
      "outputs": [
        {
          "output_type": "stream",
          "name": "stdout",
          "text": [
            "I hit a tree 1 time. \n",
            "I hit a tree 2 time. \n",
            "I hit a tree 3 time. \n",
            "I hit a tree 4 time. \n",
            "I hit a tree 5 time. \n",
            "I hit a tree 6 time. \n",
            "I hit a tree 7 time. \n",
            "I hit a tree 8 time. \n",
            "I hit a tree 9 time. \n",
            "I hit a tree 10 time. \n",
            "I hit a tree 11 time. \n",
            "The tree is falling\n"
          ]
        }
      ]
    },
    {
      "cell_type": "code",
      "source": [
        "n=16\n",
        "hex = \"\"\n",
        "while n>0:\n",
        "    k = n % 8\n",
        "    x = (\"%d\" %k)\n",
        "    hex = x + hex\n",
        "    n = n//8\n",
        "\n",
        "print(hex)"
      ],
      "metadata": {
        "id": "DuFjNzDZ2pML",
        "colab": {
          "base_uri": "https://localhost:8080/"
        },
        "outputId": "2cd2f851-9c4f-463d-c7d1-0f7f961af920"
      },
      "execution_count": null,
      "outputs": [
        {
          "output_type": "stream",
          "name": "stdout",
          "text": [
            "20\n"
          ]
        }
      ]
    },
    {
      "cell_type": "code",
      "source": [
        "max = 11\n",
        "count = 1\n",
        "while count <= max:\n",
        "    if count == 1:\n",
        "        print(\"I hit a tree %d time. \" % count)\n",
        "    else:\n",
        "        print(\"I hit a tree %d time. \" %count)\n",
        "    count+=1\n",
        "    if count > 5:\n",
        "        break\n",
        "if count < 10:\n",
        "    print(\"I retire hitting the tree.\")\n",
        "else:\n",
        "    print(\"The tree is falling\")\n"
      ],
      "metadata": {
        "id": "LDRuDY-b2pIh",
        "colab": {
          "base_uri": "https://localhost:8080/"
        },
        "outputId": "0e1bbcdc-7c48-414d-b31e-deb93b0ace73"
      },
      "execution_count": null,
      "outputs": [
        {
          "output_type": "stream",
          "name": "stdout",
          "text": [
            "I hit a tree 1 time. \n",
            "I hit a tree 2 time. \n",
            "I hit a tree 3 time. \n",
            "I hit a tree 4 time. \n",
            "I hit a tree 5 time. \n",
            "I retire hitting the tree.\n"
          ]
        }
      ]
    },
    {
      "cell_type": "code",
      "source": [
        "i=0\n",
        "n=8\n",
        "\n",
        "while i<n:\n",
        "    i+=1\n",
        "    if i%2 ==0:\n",
        "        continue\n",
        "    print(i)"
      ],
      "metadata": {
        "id": "nWvaPQIe2pCc",
        "colab": {
          "base_uri": "https://localhost:8080/"
        },
        "outputId": "a3e5bdcc-19af-408d-d270-aef41caf1a49"
      },
      "execution_count": null,
      "outputs": [
        {
          "output_type": "stream",
          "name": "stdout",
          "text": [
            "1\n",
            "3\n",
            "5\n",
            "7\n"
          ]
        }
      ]
    },
    {
      "cell_type": "code",
      "source": [
        "matrix = [[1,2,3],[4,5,6],[7,8,9]]\n",
        "i = 0\n",
        "while i< len(matrix):\n",
        "    j = 0\n",
        "    while j < len(matrix[i]):\n",
        "        print(matrix[j][i])\n",
        "        j+=1\n",
        "    print()\n",
        "    i += 1"
      ],
      "metadata": {
        "colab": {
          "base_uri": "https://localhost:8080/"
        },
        "id": "eTSQnUoqArHP",
        "outputId": "859638f6-63d5-4f71-b8ab-06f2ae9a2ca7"
      },
      "execution_count": null,
      "outputs": [
        {
          "output_type": "stream",
          "name": "stdout",
          "text": [
            "1\n",
            "4\n",
            "7\n",
            "\n",
            "2\n",
            "5\n",
            "8\n",
            "\n",
            "3\n",
            "6\n",
            "9\n",
            "\n"
          ]
        }
      ]
    },
    {
      "cell_type": "code",
      "source": [
        "start = 10\n",
        "end = 50\n",
        "number = start\n",
        "\n",
        "while number <= end:\n",
        "    is_prime = True\n",
        "    divisor = 2\n",
        "    while divisor < number:\n",
        "        if number % divisor == 0:\n",
        "            is_prime = False\n",
        "            break\n",
        "        divisor += 1\n",
        "    if is_prime and number > 1:\n",
        "        print(number,\" is a prime number\")\n",
        "    number += 1"
      ],
      "metadata": {
        "colab": {
          "base_uri": "https://localhost:8080/"
        },
        "id": "GOVZqnxPArD0",
        "outputId": "7f01d584-4648-4ad9-9ab8-b41ce744603a"
      },
      "execution_count": null,
      "outputs": [
        {
          "output_type": "stream",
          "name": "stdout",
          "text": [
            "11  is a prime number\n",
            "13  is a prime number\n",
            "17  is a prime number\n",
            "19  is a prime number\n",
            "23  is a prime number\n",
            "29  is a prime number\n",
            "31  is a prime number\n",
            "37  is a prime number\n",
            "41  is a prime number\n",
            "43  is a prime number\n",
            "47  is a prime number\n"
          ]
        }
      ]
    },
    {
      "cell_type": "code",
      "source": [
        "myweek = \"Hello, world\"\n",
        "\n",
        "for day in myweek:\n",
        "    print(day)"
      ],
      "metadata": {
        "colab": {
          "base_uri": "https://localhost:8080/"
        },
        "id": "bHRxxfUKAq9L",
        "outputId": "9013412d-f07f-4149-8749-53723ff84d5e"
      },
      "execution_count": null,
      "outputs": [
        {
          "output_type": "stream",
          "name": "stdout",
          "text": [
            "H\n",
            "e\n",
            "l\n",
            "l\n",
            "o\n",
            ",\n",
            " \n",
            "w\n",
            "o\n",
            "r\n",
            "l\n",
            "d\n"
          ]
        }
      ]
    },
    {
      "cell_type": "code",
      "source": [
        "scores = [87,54,61,49,90,85,55,74,68,51]\n",
        "count = 0\n",
        "for s in scores:\n",
        "    if s >= 60:\n",
        "        count +=1\n",
        "print(count)"
      ],
      "metadata": {
        "colab": {
          "base_uri": "https://localhost:8080/"
        },
        "id": "QdGqtnQEAq7B",
        "outputId": "d13e0b4f-7f71-473b-bc34-a95a1912e074"
      },
      "execution_count": null,
      "outputs": [
        {
          "output_type": "stream",
          "name": "stdout",
          "text": [
            "6\n"
          ]
        }
      ]
    },
    {
      "cell_type": "code",
      "source": [
        "keys = [\"name\",\"age\",\"city\"]\n",
        "values = [\"Alice\",30,\"New York\"]\n",
        "\n",
        "person = {}\n",
        "\n",
        "for key,value in zip(keys,values):\n",
        "    person[key] = value\n",
        "\n",
        "print(person)"
      ],
      "metadata": {
        "colab": {
          "base_uri": "https://localhost:8080/"
        },
        "id": "hzZNyUV6Aq4c",
        "outputId": "e29b8658-2065-40f2-adbd-e449d2cc1c00"
      },
      "execution_count": null,
      "outputs": [
        {
          "output_type": "stream",
          "name": "stdout",
          "text": [
            "{'name': 'Alice', 'age': 30, 'city': 'New York'}\n"
          ]
        }
      ]
    },
    {
      "cell_type": "code",
      "source": [
        "matrix = [[1,2,3],[4,5,6],[7,8,9]]\n",
        "\n",
        "row_sums = []\n",
        "for row in matrix:\n",
        "    row_sum = 0\n",
        "    for num in row:\n",
        "        row_sum += num\n",
        "    row_sums.append(row_sum)\n",
        "\n",
        "print(\"Sum of each row:\",row_sums)"
      ],
      "metadata": {
        "colab": {
          "base_uri": "https://localhost:8080/"
        },
        "id": "35JB2LYVAq17",
        "outputId": "c285d0b0-e68f-43cc-b18e-bfea83de0181"
      },
      "execution_count": null,
      "outputs": [
        {
          "output_type": "stream",
          "name": "stdout",
          "text": [
            "Sum of each row: [6, 15, 24]\n"
          ]
        }
      ]
    },
    {
      "cell_type": "code",
      "source": [
        "target = 10\n",
        "pairs= []\n",
        "\n",
        "for i in range(target):\n",
        "    for j in range(i,target):\n",
        "        if i+j == target:\n",
        "            pairs.append((i,j))\n",
        "    if(i == target/2):\n",
        "        break\n",
        "print(f\"Pairs that add up to {target}:{pairs}\")\n"
      ],
      "metadata": {
        "colab": {
          "base_uri": "https://localhost:8080/"
        },
        "id": "CueG89c4Aq0K",
        "outputId": "6caa2e02-1937-4417-b834-b398a43eda7a"
      },
      "execution_count": null,
      "outputs": [
        {
          "output_type": "stream",
          "name": "stdout",
          "text": [
            "Pairs that add up to 10:[(1, 9), (2, 8), (3, 7), (4, 6), (5, 5)]\n"
          ]
        }
      ]
    },
    {
      "cell_type": "code",
      "source": [],
      "metadata": {
        "id": "-1KaL2qPAqyN"
      },
      "execution_count": null,
      "outputs": []
    },
    {
      "cell_type": "code",
      "source": [],
      "metadata": {
        "id": "s-0HhcvHAqvg"
      },
      "execution_count": null,
      "outputs": []
    },
    {
      "cell_type": "code",
      "source": [],
      "metadata": {
        "id": "cljgSwAiAqs6"
      },
      "execution_count": null,
      "outputs": []
    },
    {
      "cell_type": "code",
      "source": [],
      "metadata": {
        "id": "EAXhDalFAqpK"
      },
      "execution_count": null,
      "outputs": []
    },
    {
      "cell_type": "code",
      "source": [],
      "metadata": {
        "id": "M0jdThrIAqm1"
      },
      "execution_count": null,
      "outputs": []
    },
    {
      "cell_type": "code",
      "source": [],
      "metadata": {
        "id": "WmAzEfcLAqg-"
      },
      "execution_count": null,
      "outputs": []
    },
    {
      "cell_type": "code",
      "source": [],
      "metadata": {
        "id": "OCS3c70r2o8c"
      },
      "execution_count": null,
      "outputs": []
    },
    {
      "cell_type": "code",
      "source": [],
      "metadata": {
        "id": "xTsoiKxv2o0b"
      },
      "execution_count": null,
      "outputs": []
    }
  ]
}