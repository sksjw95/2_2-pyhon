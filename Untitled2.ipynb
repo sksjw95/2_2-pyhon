{
  "nbformat": 4,
  "nbformat_minor": 0,
  "metadata": {
    "colab": {
      "provenance": [],
      "authorship_tag": "ABX9TyMNH7K/voh+4m2uDxzWFxSo",
      "include_colab_link": true
    },
    "kernelspec": {
      "name": "python3",
      "display_name": "Python 3"
    },
    "language_info": {
      "name": "python"
    }
  },
  "cells": [
    {
      "cell_type": "markdown",
      "metadata": {
        "id": "view-in-github",
        "colab_type": "text"
      },
      "source": [
        "<a href=\"https://colab.research.google.com/github/sksjw95/2_2-pyhon/blob/main/Untitled2.ipynb\" target=\"_parent\"><img src=\"https://colab.research.google.com/assets/colab-badge.svg\" alt=\"Open In Colab\"/></a>"
      ]
    },
    {
      "cell_type": "code",
      "execution_count": null,
      "metadata": {
        "colab": {
          "base_uri": "https://localhost:8080/"
        },
        "id": "otxt0qxSJccA",
        "outputId": "e7df568e-0048-4273-9554-233c1abad95c"
      },
      "outputs": [
        {
          "output_type": "stream",
          "name": "stdout",
          "text": [
            "10 진수를 입력하세요: 74\n",
            "1001010\n"
          ]
        }
      ],
      "source": [
        "a = int(input(\"10 진수를 입력하세요: \"))\n",
        "d = \"\"\n",
        "\n",
        "while a > 0:\n",
        "    c = a % 2\n",
        "    a //= 2\n",
        "    d = str(c) + d\n",
        "\n",
        "\n",
        "print(d)"
      ]
    },
    {
      "cell_type": "code",
      "source": [
        "x = 1\n",
        "print(\"x의 값은\", x)\n",
        "\n",
        "def inc(x):\n",
        "    x = x + 1\n",
        "    print(\"x의 값은 \", x)\n",
        "inc(x)\n",
        "\n",
        "print(\"x의 값은\",x)"
      ],
      "metadata": {
        "colab": {
          "base_uri": "https://localhost:8080/"
        },
        "id": "qSGdwgMkrS_v",
        "outputId": "1f6ba4a6-df4c-48e0-f60f-5d601e503ae2"
      },
      "execution_count": null,
      "outputs": [
        {
          "output_type": "stream",
          "name": "stdout",
          "text": [
            "x의 값은 1\n",
            "x의 값은  2\n",
            "x의 값은 1\n"
          ]
        }
      ]
    }
  ]
}