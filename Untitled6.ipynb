{
  "nbformat": 4,
  "nbformat_minor": 0,
  "metadata": {
    "colab": {
      "provenance": [],
      "authorship_tag": "ABX9TyP54J78KnpSkqgD4De/Vdl2",
      "include_colab_link": true
    },
    "kernelspec": {
      "name": "python3",
      "display_name": "Python 3"
    },
    "language_info": {
      "name": "python"
    }
  },
  "cells": [
    {
      "cell_type": "markdown",
      "metadata": {
        "id": "view-in-github",
        "colab_type": "text"
      },
      "source": [
        "<a href=\"https://colab.research.google.com/github/sksjw95/2_2-pyhon/blob/main/Untitled6.ipynb\" target=\"_parent\"><img src=\"https://colab.research.google.com/assets/colab-badge.svg\" alt=\"Open In Colab\"/></a>"
      ]
    },
    {
      "cell_type": "code",
      "execution_count": null,
      "metadata": {
        "colab": {
          "base_uri": "https://localhost:8080/"
        },
        "id": "N7wxzeJyIb-V",
        "outputId": "b3ae6245-13a1-4d7c-bc09-33c8a728812d"
      },
      "outputs": [
        {
          "output_type": "stream",
          "name": "stdout",
          "text": [
            "[1. 2. 3.]\n",
            "[0.33333333 0.66666667 1.        ]\n"
          ]
        },
        {
          "output_type": "execute_result",
          "data": {
            "text/plain": [
              "array([0.5, 0.5, 0.5])"
            ]
          },
          "metadata": {},
          "execution_count": 8
        }
      ],
      "source": [
        "import numpy as np\n",
        "x = np.array([1.0,2.0,3.0])\n",
        "print(x)\n",
        "type(x)\n",
        "\n",
        "y = x/3\n",
        "print(y)\n",
        "\n",
        "x = np.array([1.0,2.0,3.0])\n",
        "y = np.array([2.0,4.0,6.0])\n",
        "x+y\n",
        "x-y\n",
        "x*y\n",
        "x/y"
      ]
    }
  ]
}